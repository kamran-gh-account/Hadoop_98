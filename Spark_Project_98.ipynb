{
 "cells": [
  {
   "cell_type": "code",
   "execution_count": 2,
   "metadata": {},
   "outputs": [],
   "source": [
    "from pyspark.sql import SparkSession\n",
    "from pyspark.sql.functions import *"
   ]
  },
  {
   "cell_type": "code",
   "execution_count": 3,
   "metadata": {},
   "outputs": [],
   "source": [
    "#Create a spark application\n",
    "spark = SparkSession.builder.appName(\"groupbyagg\").getOrCreate()"
   ]
  },
  {
   "cell_type": "code",
   "execution_count": 4,
   "metadata": {},
   "outputs": [],
   "source": [
    "#Load the athlete_events.csv from Local System\n",
    "athlete_events = spark.read.csv('file:///home/hduser/demo_1/athlete_events.csv',sep=',',inferSchema=True,header=True)"
   ]
  },
  {
   "cell_type": "code",
   "execution_count": 5,
   "metadata": {},
   "outputs": [],
   "source": [
    "#Change your DB and table name as per your requirements...\n",
    "MySQL_URL = \"jdbc:mysql://localhost:3306/sqoop\"\n",
    "MySQL_driver = \"com.mysql.jdbc.Driver\"\n",
    "MySQL_table = \"athlete_events_MYSQL\"\n",
    "user = \"root\"\n",
    "password = \"password\""
   ]
  },
  {
   "cell_type": "code",
   "execution_count": 6,
   "metadata": {},
   "outputs": [],
   "source": [
    "#Write a spark DF into a MySQL table.\n",
    "athlete_events.write.format('jdbc').options(url=MySQL_URL,driver=MySQL_driver,dbtable=MySQL_table,user=user,password=password).mode('overwrite').save()\n"
   ]
  },
  {
   "cell_type": "code",
   "execution_count": 7,
   "metadata": {},
   "outputs": [],
   "source": [
    "#Read the data from MySQL table and store it in a spark DF.\n",
    "read_from_MYSQL = spark.read.format(\"jdbc\").option(\"url\", MySQL_URL).option(\"driver\", MySQL_driver).option(\"dbtable\", MySQL_table).option(\"user\", user).option(\"password\", password).load()\n"
   ]
  },
  {
   "cell_type": "code",
   "execution_count": 8,
   "metadata": {},
   "outputs": [
    {
     "name": "stdout",
     "output_type": "stream",
     "text": [
      "+-----+--------------------+---+---+------+------+-----------+---+-----------+----+------+---------+-------------+--------------------+-----+\n",
      "|   ID|                Name|Sex|Age|Height|Weight|       Team|NOC|      Games|Year|Season|     City|        Sport|               Event|Medal|\n",
      "+-----+--------------------+---+---+------+------+-----------+---+-----------+----+------+---------+-------------+--------------------+-----+\n",
      "|37971| Adrian-Francisc Gal|  M| 21|    NA|    NA|    Romania|ROU|1992 Summer|1992|Summer|Barcelona|   Gymnastics|Gymnastics Men's ...|   NA|\n",
      "|37971| Adrian-Francisc Gal|  M| 21|    NA|    NA|    Romania|ROU|1992 Summer|1992|Summer|Barcelona|   Gymnastics|Gymnastics Men's ...|   NA|\n",
      "|37971| Adrian-Francisc Gal|  M| 21|    NA|    NA|    Romania|ROU|1992 Summer|1992|Summer|Barcelona|   Gymnastics|Gymnastics Men's ...|   NA|\n",
      "|37971| Adrian-Francisc Gal|  M| 21|    NA|    NA|    Romania|ROU|1992 Summer|1992|Summer|Barcelona|   Gymnastics|Gymnastics Men's ...|   NA|\n",
      "|37971| Adrian-Francisc Gal|  M| 21|    NA|    NA|    Romania|ROU|1992 Summer|1992|Summer|Barcelona|   Gymnastics|Gymnastics Men's ...|   NA|\n",
      "|37971| Adrian-Francisc Gal|  M| 21|    NA|    NA|    Romania|ROU|1992 Summer|1992|Summer|Barcelona|   Gymnastics|Gymnastics Men's ...|   NA|\n",
      "|37971| Adrian-Francisc Gal|  M| 21|    NA|    NA|    Romania|ROU|1992 Summer|1992|Summer|Barcelona|   Gymnastics|Gymnastics Men's ...|   NA|\n",
      "|37972|\"Edwin Johannes \"...|  M| 42|   182|    72|Netherlands|NED|2012 Summer|2012|Summer|   London|Equestrianism|Equestrianism Mix...|   NA|\n",
      "+-----+--------------------+---+---+------+------+-----------+---+-----------+----+------+---------+-------------+--------------------+-----+\n",
      "only showing top 8 rows\n",
      "\n"
     ]
    }
   ],
   "source": [
    "# Check the data\n",
    "read_from_MYSQL.show(8)"
   ]
  },
  {
   "cell_type": "code",
   "execution_count": null,
   "metadata": {},
   "outputs": [],
   "source": []
  },
  {
   "cell_type": "code",
   "execution_count": null,
   "metadata": {},
   "outputs": [],
   "source": []
  },
  {
   "cell_type": "code",
   "execution_count": null,
   "metadata": {},
   "outputs": [],
   "source": []
  }
 ],
 "metadata": {
  "kernelspec": {
   "display_name": "Python 3",
   "language": "python",
   "name": "python3"
  },
  "language_info": {
   "codemirror_mode": {
    "name": "ipython",
    "version": 3
   },
   "file_extension": ".py",
   "mimetype": "text/x-python",
   "name": "python",
   "nbconvert_exporter": "python",
   "pygments_lexer": "ipython3",
   "version": "3.4.3"
  }
 },
 "nbformat": 4,
 "nbformat_minor": 2
}
